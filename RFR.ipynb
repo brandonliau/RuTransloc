{
 "cells": [
  {
   "cell_type": "code",
   "execution_count": 1,
   "metadata": {},
   "outputs": [
    {
     "name": "stdout",
     "output_type": "stream",
     "text": [
      "    Day_sin   Day_cos  Hour  Minute  Second  Vehicle_id  Speed   \n",
      "0 -0.587785 -0.809017     7      49       0     4017137    0.0  \\\n",
      "1 -0.587785 -0.809017     7      49       0     4017137    0.0   \n",
      "2 -0.587785 -0.809017     7      49      20     4017137    0.0   \n",
      "3 -0.587785 -0.809017     7      49      20     4017137    0.0   \n",
      "4 -0.587785 -0.809017     7      49      40     4017137    0.0   \n",
      "\n",
      "   Passenger_load  Next_stop   Latitude  Longitude  Heading  Traffic_speed   \n",
      "0        0.000000    4229596  40.483052 -74.437461     44.0             40  \\\n",
      "1        0.014925    4229596  40.483052 -74.437461     44.0             40   \n",
      "2        0.014925    4229596  40.483028 -74.437489    182.0             40   \n",
      "3        0.000000    4229596  40.483028 -74.437489    182.0             40   \n",
      "4        0.000000    4229596  40.483028 -74.437489    182.0             40   \n",
      "\n",
      "   Temperature  Windspeed  Precipitation  Humidity  Visibility  Stop_distance   \n",
      "0         57.1        3.8            0.0        62   98425.195       0.002126  \\\n",
      "1         57.1        3.8            0.0        62   98425.195       0.002126   \n",
      "2         57.1        3.8            0.0        62   98425.195       0.002121   \n",
      "3         57.1        3.8            0.0        62   98425.195       0.002121   \n",
      "4         57.1        3.8            0.0        62   98425.195       0.002121   \n",
      "\n",
      "   ETA  \n",
      "0  247  \n",
      "1  247  \n",
      "2  227  \n",
      "3  227  \n",
      "4  207  \n",
      "       Day_sin   Day_cos  Hour  Minute  Second  Vehicle_id   Speed   \n",
      "3789 -0.587785 -0.809017    22      52      22     4017137  30.996  \\\n",
      "3790 -0.587785 -0.809017    22      52      31     4017137  14.688   \n",
      "3791 -0.587785 -0.809017    22      52      40     4017137   0.180   \n",
      "3792 -0.587785 -0.809017    22      52      50     4017137   0.180   \n",
      "3793 -0.587785 -0.809017    22      53       0     4017137   0.072   \n",
      "\n",
      "      Passenger_load  Next_stop   Latitude  Longitude  Heading  Traffic_speed   \n",
      "3789        0.223881    4253700  40.484674 -74.437589     45.0             40  \\\n",
      "3790        0.223881    4253700  40.485066 -74.437179     38.0             40   \n",
      "3791        0.223881    4253700  40.485128 -74.437116     46.0             40   \n",
      "3792        0.223881    4253700  40.485125 -74.437119     72.0             40   \n",
      "3793        0.223881    4253700  40.485125 -74.437119     72.0             40   \n",
      "\n",
      "      Temperature  Windspeed  Precipitation  Humidity  Visibility   \n",
      "3789         75.8        8.4            0.0        31  201443.578  \\\n",
      "3790         75.8        8.4            0.0        31  201443.578   \n",
      "3791         75.8        8.4            0.0        31  201443.578   \n",
      "3792         75.8        8.4            0.0        31  201443.578   \n",
      "3793         75.8        8.4            0.0        31  201443.578   \n",
      "\n",
      "      Stop_distance  ETA  \n",
      "3789       0.000922   38  \n",
      "3790       0.000443   29  \n",
      "3791       0.000390   20  \n",
      "3792       0.000392   10  \n",
      "3793       0.000392    0  \n"
     ]
    }
   ],
   "source": [
    "# Read and preprocess data\n",
    "import pandas as pd\n",
    "import preprocess as pre\n",
    "df = pd.read_csv('./Data/4017137.csv')\n",
    "df = pre.convertTime(df)\n",
    "df = pre.calculateETA(df)\n",
    "df = pre.encodeTime(df, 5)\n",
    "df = pre.filterETA(df, 4000)\n",
    "print(df.head())\n",
    "print(df.tail())\n",
    "df = df.dropna()"
   ]
  },
  {
   "cell_type": "code",
   "execution_count": 11,
   "metadata": {},
   "outputs": [],
   "source": [
    "# Split data into dependent and independent variables\n",
    "X = df.iloc[:, df.columns != 'ETA'].values\n",
    "y = df.iloc[:, df.columns == 'ETA'].values"
   ]
  },
  {
   "cell_type": "code",
   "execution_count": 12,
   "metadata": {},
   "outputs": [],
   "source": [
    "# Split data into training and test sets\n",
    "from sklearn.model_selection import train_test_split\n",
    "X_train, X_test, y_train, y_test = train_test_split(X, y, test_size=0.20, shuffle=False) # Allocates last 20% of data as test set"
   ]
  },
  {
   "cell_type": "code",
   "execution_count": 13,
   "metadata": {},
   "outputs": [
    {
     "name": "stderr",
     "output_type": "stream",
     "text": [
      "/var/folders/gj/zg9_2w8d5xb827ljt0tjyb8h0000gn/T/ipykernel_46348/1877506561.py:4: DataConversionWarning: A column-vector y was passed when a 1d array was expected. Please change the shape of y to (n_samples,), for example using ravel().\n",
      "  regressor.fit(X_train, y_train)\n"
     ]
    },
    {
     "data": {
      "text/html": [
       "<style>#sk-container-id-2 {color: black;background-color: white;}#sk-container-id-2 pre{padding: 0;}#sk-container-id-2 div.sk-toggleable {background-color: white;}#sk-container-id-2 label.sk-toggleable__label {cursor: pointer;display: block;width: 100%;margin-bottom: 0;padding: 0.3em;box-sizing: border-box;text-align: center;}#sk-container-id-2 label.sk-toggleable__label-arrow:before {content: \"▸\";float: left;margin-right: 0.25em;color: #696969;}#sk-container-id-2 label.sk-toggleable__label-arrow:hover:before {color: black;}#sk-container-id-2 div.sk-estimator:hover label.sk-toggleable__label-arrow:before {color: black;}#sk-container-id-2 div.sk-toggleable__content {max-height: 0;max-width: 0;overflow: hidden;text-align: left;background-color: #f0f8ff;}#sk-container-id-2 div.sk-toggleable__content pre {margin: 0.2em;color: black;border-radius: 0.25em;background-color: #f0f8ff;}#sk-container-id-2 input.sk-toggleable__control:checked~div.sk-toggleable__content {max-height: 200px;max-width: 100%;overflow: auto;}#sk-container-id-2 input.sk-toggleable__control:checked~label.sk-toggleable__label-arrow:before {content: \"▾\";}#sk-container-id-2 div.sk-estimator input.sk-toggleable__control:checked~label.sk-toggleable__label {background-color: #d4ebff;}#sk-container-id-2 div.sk-label input.sk-toggleable__control:checked~label.sk-toggleable__label {background-color: #d4ebff;}#sk-container-id-2 input.sk-hidden--visually {border: 0;clip: rect(1px 1px 1px 1px);clip: rect(1px, 1px, 1px, 1px);height: 1px;margin: -1px;overflow: hidden;padding: 0;position: absolute;width: 1px;}#sk-container-id-2 div.sk-estimator {font-family: monospace;background-color: #f0f8ff;border: 1px dotted black;border-radius: 0.25em;box-sizing: border-box;margin-bottom: 0.5em;}#sk-container-id-2 div.sk-estimator:hover {background-color: #d4ebff;}#sk-container-id-2 div.sk-parallel-item::after {content: \"\";width: 100%;border-bottom: 1px solid gray;flex-grow: 1;}#sk-container-id-2 div.sk-label:hover label.sk-toggleable__label {background-color: #d4ebff;}#sk-container-id-2 div.sk-serial::before {content: \"\";position: absolute;border-left: 1px solid gray;box-sizing: border-box;top: 0;bottom: 0;left: 50%;z-index: 0;}#sk-container-id-2 div.sk-serial {display: flex;flex-direction: column;align-items: center;background-color: white;padding-right: 0.2em;padding-left: 0.2em;position: relative;}#sk-container-id-2 div.sk-item {position: relative;z-index: 1;}#sk-container-id-2 div.sk-parallel {display: flex;align-items: stretch;justify-content: center;background-color: white;position: relative;}#sk-container-id-2 div.sk-item::before, #sk-container-id-2 div.sk-parallel-item::before {content: \"\";position: absolute;border-left: 1px solid gray;box-sizing: border-box;top: 0;bottom: 0;left: 50%;z-index: -1;}#sk-container-id-2 div.sk-parallel-item {display: flex;flex-direction: column;z-index: 1;position: relative;background-color: white;}#sk-container-id-2 div.sk-parallel-item:first-child::after {align-self: flex-end;width: 50%;}#sk-container-id-2 div.sk-parallel-item:last-child::after {align-self: flex-start;width: 50%;}#sk-container-id-2 div.sk-parallel-item:only-child::after {width: 0;}#sk-container-id-2 div.sk-dashed-wrapped {border: 1px dashed gray;margin: 0 0.4em 0.5em 0.4em;box-sizing: border-box;padding-bottom: 0.4em;background-color: white;}#sk-container-id-2 div.sk-label label {font-family: monospace;font-weight: bold;display: inline-block;line-height: 1.2em;}#sk-container-id-2 div.sk-label-container {text-align: center;}#sk-container-id-2 div.sk-container {/* jupyter's `normalize.less` sets `[hidden] { display: none; }` but bootstrap.min.css set `[hidden] { display: none !important; }` so we also need the `!important` here to be able to override the default hidden behavior on the sphinx rendered scikit-learn.org. See: https://github.com/scikit-learn/scikit-learn/issues/21755 */display: inline-block !important;position: relative;}#sk-container-id-2 div.sk-text-repr-fallback {display: none;}</style><div id=\"sk-container-id-2\" class=\"sk-top-container\"><div class=\"sk-text-repr-fallback\"><pre>RandomForestRegressor()</pre><b>In a Jupyter environment, please rerun this cell to show the HTML representation or trust the notebook. <br />On GitHub, the HTML representation is unable to render, please try loading this page with nbviewer.org.</b></div><div class=\"sk-container\" hidden><div class=\"sk-item\"><div class=\"sk-estimator sk-toggleable\"><input class=\"sk-toggleable__control sk-hidden--visually\" id=\"sk-estimator-id-2\" type=\"checkbox\" checked><label for=\"sk-estimator-id-2\" class=\"sk-toggleable__label sk-toggleable__label-arrow\">RandomForestRegressor</label><div class=\"sk-toggleable__content\"><pre>RandomForestRegressor()</pre></div></div></div></div></div>"
      ],
      "text/plain": [
       "RandomForestRegressor()"
      ]
     },
     "execution_count": 13,
     "metadata": {},
     "output_type": "execute_result"
    }
   ],
   "source": [
    "# Training thes SVR model on the training set\n",
    "from sklearn.ensemble import RandomForestRegressor\n",
    "regressor = RandomForestRegressor(n_estimators=100)\n",
    "regressor.fit(X_train, y_train)"
   ]
  },
  {
   "cell_type": "code",
   "execution_count": 14,
   "metadata": {},
   "outputs": [],
   "source": [
    "# Predicting the test set results\n",
    "y_pred = regressor.predict(X_test)"
   ]
  },
  {
   "cell_type": "code",
   "execution_count": 15,
   "metadata": {},
   "outputs": [
    {
     "name": "stdout",
     "output_type": "stream",
     "text": [
      "Feature: 0, Score: 0.00000\n",
      "Feature: 1, Score: 0.00000\n",
      "Feature: 2, Score: 628.97280\n",
      "Feature: 3, Score: 5129.58422\n",
      "Feature: 4, Score: 82.56831\n",
      "Feature: 5, Score: 0.00000\n",
      "Feature: 6, Score: 1573.76412\n",
      "Feature: 7, Score: 1482.98035\n",
      "Feature: 8, Score: 211.03434\n",
      "Feature: 9, Score: 3674.04359\n",
      "Feature: 10, Score: 30151.09038\n",
      "Feature: 11, Score: 1417.95408\n",
      "Feature: 12, Score: 622.10540\n",
      "Feature: 13, Score: 3474.18984\n",
      "Feature: 14, Score: 1336.35103\n",
      "Feature: 15, Score: 0.00000\n",
      "Feature: 16, Score: 596.28191\n",
      "Feature: 17, Score: 7843.36318\n",
      "Feature: 18, Score: 142825.38322\n"
     ]
    }
   ],
   "source": [
    "# Determine feature importance\n",
    "from sklearn.inspection import permutation_importance\n",
    "results = permutation_importance(regressor, X, y, scoring='neg_mean_squared_error')\n",
    "importance = results.importances_mean\n",
    "for i,v in enumerate(importance):\n",
    "\tprint('Feature: %0d, Score: %.5f' % (i,v))"
   ]
  },
  {
   "cell_type": "code",
   "execution_count": 16,
   "metadata": {},
   "outputs": [
    {
     "name": "stdout",
     "output_type": "stream",
     "text": [
      "R-squared score: 0.8579929969660144\n",
      "Mean absolute error: 62.36302110817942\n",
      "Mean squared error: 14716.192161345649\n"
     ]
    }
   ],
   "source": [
    "\n",
    "from sklearn.metrics import r2_score\n",
    "from sklearn.metrics import mean_absolute_error\n",
    "from sklearn.metrics import mean_squared_error\n",
    "r2 = r2_score(y_test, y_pred)\n",
    "print('R-squared score:', r2)\n",
    "mae = mean_absolute_error(y_test, y_pred)\n",
    "print('Mean absolute error:', mae)\n",
    "mse = mean_squared_error(y_test, y_pred)\n",
    "print('Mean squared error:', mse)"
   ]
  }
 ],
 "metadata": {
  "kernelspec": {
   "display_name": "RuTransloc",
   "language": "python",
   "name": "python3"
  },
  "language_info": {
   "codemirror_mode": {
    "name": "ipython",
    "version": 3
   },
   "file_extension": ".py",
   "mimetype": "text/x-python",
   "name": "python",
   "nbconvert_exporter": "python",
   "pygments_lexer": "ipython3",
   "version": "3.11.3"
  },
  "orig_nbformat": 4
 },
 "nbformat": 4,
 "nbformat_minor": 2
}
