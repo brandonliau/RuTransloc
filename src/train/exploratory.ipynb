{
 "cells": [
  {
   "cell_type": "code",
   "execution_count": null,
   "metadata": {},
   "outputs": [],
   "source": [
    "# Standard library imports\n",
    "import sys, os\n",
    "sys.path.append(os.path.abspath('../tools'))\n",
    "# Third party imports\n",
    "import plotly.express as px\n",
    "import pandas as pd\n",
    "# Local imports\n",
    "import preprocess as pre\n",
    "\n",
    "df = pd.read_csv('/Users/bliau/Documents/VS Code/Python/RuTransloc/data/4015042.csv')\n",
    "df = pre.convertTime(df)\n",
    "df = pre.calculateETA(df)\n",
    "\n",
    "fig = px.line(df, x='Time', y='ETA', title='Time vs Distance from Next Bus Stop')\n",
    "fig.update_xaxes(\n",
    "    rangeslider_visible=True,\n",
    "    rangeselector=dict(\n",
    "        buttons=list([\n",
    "            dict(step=\"all\")\n",
    "        ])\n",
    "    )\n",
    ")\n",
    "fig.show()"
   ]
  },
  {
   "cell_type": "code",
   "execution_count": null,
   "metadata": {},
   "outputs": [],
   "source": [
    "el_df=df.set_index('Time')\n",
    "el_df.plot(subplots=True)"
   ]
  },
  {
   "cell_type": "code",
   "execution_count": null,
   "metadata": {},
   "outputs": [],
   "source": [
    "df = pre.encodeTime(df, 5)\n",
    "ax = df.plot.scatter('Day_sin', 'Day_cos').set_aspect('equal')"
   ]
  }
 ],
 "metadata": {
  "kernelspec": {
   "display_name": "RuTransloc",
   "language": "python",
   "name": "python3"
  },
  "language_info": {
   "codemirror_mode": {
    "name": "ipython",
    "version": 3
   },
   "file_extension": ".py",
   "mimetype": "text/x-python",
   "name": "python",
   "nbconvert_exporter": "python",
   "pygments_lexer": "ipython3",
   "version": "3.11.3"
  },
  "orig_nbformat": 4
 },
 "nbformat": 4,
 "nbformat_minor": 2
}
