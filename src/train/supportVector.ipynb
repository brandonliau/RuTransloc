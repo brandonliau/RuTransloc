{
 "cells": [
  {
   "cell_type": "code",
   "execution_count": null,
   "metadata": {},
   "outputs": [],
   "source": [
    "## Import required libraries ##\n",
    "import sys, os, pickle\n",
    "sys.path.append(os.path.abspath('../tools'))\n",
    "# Third party imports\n",
    "import pandas as pd\n",
    "from sklearn.svm import SVR\n",
    "from sklearn.preprocessing import OneHotEncoder, StandardScaler\n",
    "from sklearn.model_selection import train_test_split\n",
    "from sklearn.metrics import r2_score, mean_absolute_error, mean_squared_error\n",
    "# Local imports\n",
    "import preprocess as pre"
   ]
  },
  {
   "cell_type": "code",
   "execution_count": null,
   "metadata": {},
   "outputs": [],
   "source": [
    "## Select route to train ##\n",
    "route = ''"
   ]
  },
  {
   "cell_type": "code",
   "execution_count": null,
   "metadata": {},
   "outputs": [],
   "source": [
    "## Set filepaths ##\n",
    "inputPath = os.path.abspath(f'../../data/{route}.csv')\n",
    "outputPath = f'../models/{route}/supportVector'"
   ]
  },
  {
   "cell_type": "code",
   "execution_count": null,
   "metadata": {},
   "outputs": [],
   "source": [
    "## Read and preprocess data ##\n",
    "df = pd.read_csv(inputPath)\n",
    "df = pre.convertTime(df)\n",
    "df = pre.calculateETA(df)\n",
    "df = pre.encodeTime(df, 5)\n",
    "df.drop('Heading', axis=1, inplace=True)\n",
    "print(df.isnull().sum())"
   ]
  },
  {
   "cell_type": "code",
   "execution_count": null,
   "metadata": {},
   "outputs": [],
   "source": [
    "## Perform one hot encoding of categorical variables ##\n",
    "encoder = OneHotEncoder(handle_unknown='ignore')\n",
    "encoder_df = pd.DataFrame(encoder.fit_transform(df[['Vehicle_id', 'Next_stop']]).toarray())\n",
    "df = df.join(encoder_df)\n",
    "df.drop('Vehicle_id', axis=1, inplace=True)\n",
    "df.drop('Next_stop', axis=1, inplace=True)\n",
    "# df = df.dropna()"
   ]
  },
  {
   "cell_type": "code",
   "execution_count": null,
   "metadata": {},
   "outputs": [],
   "source": [
    "## Split data into dependent and independent variables ##\n",
    "X = df.iloc[:, df.columns != 'ETA'].values\n",
    "y = df.iloc[:, df.columns == 'ETA'].values"
   ]
  },
  {
   "cell_type": "code",
   "execution_count": null,
   "metadata": {},
   "outputs": [],
   "source": [
    "## Split data into training and test sets ##\n",
    "X_train, X_test, y_train, y_test = train_test_split(X, y, test_size=0.20, shuffle=False) # Allocates last 20% of data as test set"
   ]
  },
  {
   "cell_type": "code",
   "execution_count": null,
   "metadata": {},
   "outputs": [],
   "source": [
    "## Scale and standardize data ##\n",
    "sc_X = StandardScaler()\n",
    "sc_y = StandardScaler()\n",
    "X_train  = sc_X.fit_transform(X_train)\n",
    "X_test = sc_X.transform(X_test)\n",
    "# y_train = sc_y.fit_transform(y_train)\n",
    "# y_test = sc_y.transform(y_test)"
   ]
  },
  {
   "cell_type": "code",
   "execution_count": null,
   "metadata": {},
   "outputs": [],
   "source": [
    "## Train SVR model on the training set ##\n",
    "regressor = SVR(kernel='rbf', C=10, gamma=0.1, epsilon=0.1)\n",
    "regressor.fit(X_train, y_train)"
   ]
  },
  {
   "cell_type": "code",
   "execution_count": null,
   "metadata": {},
   "outputs": [],
   "source": [
    "# Predicting the test set results\n",
    "y_pred = regressor.predict(X_test)\n",
    "print(y_pred)"
   ]
  },
  {
   "cell_type": "code",
   "execution_count": null,
   "metadata": {},
   "outputs": [],
   "source": [
    "# Calculate accuracy\n",
    "r2 = r2_score(y_test, y_pred)\n",
    "print('R-squared score:', r2)\n",
    "mae = mean_absolute_error(y_test, y_pred)\n",
    "print('Mean absolute error:', mae)\n",
    "mse = mean_squared_error(y_test, y_pred)\n",
    "print('Mean squared error:', mse)"
   ]
  },
  {
   "cell_type": "code",
   "execution_count": null,
   "metadata": {},
   "outputs": [],
   "source": [
    "## Save trained model ##\n",
    "pickle.dump(regressor, open(outputPath, 'wb'))"
   ]
  }
 ],
 "metadata": {
  "kernelspec": {
   "display_name": "RuTransloc",
   "language": "python",
   "name": "python3"
  },
  "language_info": {
   "codemirror_mode": {
    "name": "ipython",
    "version": 3
   },
   "file_extension": ".py",
   "mimetype": "text/x-python",
   "name": "python",
   "nbconvert_exporter": "python",
   "pygments_lexer": "ipython3",
   "version": "3.11.3"
  },
  "orig_nbformat": 4
 },
 "nbformat": 4,
 "nbformat_minor": 2
}
