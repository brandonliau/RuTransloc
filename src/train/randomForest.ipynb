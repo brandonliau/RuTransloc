{
 "cells": [
  {
   "cell_type": "code",
   "execution_count": null,
   "metadata": {},
   "outputs": [],
   "source": [
    "# Standard library imports\n",
    "import sys, os\n",
    "sys.path.append(os.path.abspath('../tools'))\n",
    "# Third party imports\n",
    "import pandas as pd\n",
    "# Local imports\n",
    "import preprocess as pre\n",
    "\n",
    "## Read and process data ##\n",
    "filepath = '/Users/bliau/Documents/VS Code/Python/RuTransloc/Data/4017105.csv'\n",
    "df = pd.read_csv(filepath)\n",
    "df = pre.convertTime(df)\n",
    "df = pre.calculateETA(df)\n",
    "df = pre.splitTime(df)\n",
    "df.drop('Heading', axis=1, inplace=True)\n",
    "print(df.isnull().sum())"
   ]
  },
  {
   "cell_type": "code",
   "execution_count": null,
   "metadata": {},
   "outputs": [],
   "source": [
    "display(df)"
   ]
  },
  {
   "cell_type": "code",
   "execution_count": null,
   "metadata": {},
   "outputs": [],
   "source": [
    "# Third party imports\n",
    "from sklearn.preprocessing import OneHotEncoder\n",
    "\n",
    "## Perform one hot encoding of categorical variables ##\n",
    "# encoder = OneHotEncoder(handle_unknown='ignore')\n",
    "# encoder_df = pd.DataFrame(encoder.fit_transform(df[['Vehicle_id', 'Next_stop']]).toarray())\n",
    "# df = df.join(encoder_df)\n",
    "# df = df.dropna()"
   ]
  },
  {
   "cell_type": "code",
   "execution_count": null,
   "metadata": {},
   "outputs": [],
   "source": [
    "## Split data into dependent and independent variables ##\n",
    "X = df.iloc[:, df.columns != 'ETA'].values\n",
    "y = df.iloc[:, df.columns == 'ETA'].values"
   ]
  },
  {
   "cell_type": "code",
   "execution_count": null,
   "metadata": {},
   "outputs": [],
   "source": [
    "# Third party imports\n",
    "from sklearn.model_selection import train_test_split\n",
    "\n",
    "## Split data into training and test sets ##\n",
    "X_train, X_test, y_train, y_test = train_test_split(X, y, test_size=0.20, shuffle=False) # Allocates last 20% of data as test set"
   ]
  },
  {
   "cell_type": "code",
   "execution_count": null,
   "metadata": {},
   "outputs": [],
   "source": [
    "# Third party imports\n",
    "from sklearn.ensemble import RandomForestRegressor\n",
    "\n",
    "## Train RFR model on the training set ##\n",
    "regressor = RandomForestRegressor(n_estimators=500, max_depth=8, min_samples_leaf=2, random_state=42)\n",
    "regressor.fit(X_train, y_train)"
   ]
  },
  {
   "cell_type": "code",
   "execution_count": null,
   "metadata": {},
   "outputs": [],
   "source": [
    "## Predicting the test set results ##\n",
    "y_pred = regressor.predict(X_test)\n",
    "print(y_pred)"
   ]
  },
  {
   "cell_type": "code",
   "execution_count": null,
   "metadata": {},
   "outputs": [],
   "source": [
    "## Determine feature importance ##\n",
    "from sklearn.inspection import permutation_importance\n",
    "results = permutation_importance(regressor, X, y, scoring='neg_mean_squared_error')\n",
    "importance = results.importances_mean\n",
    "for i,v in enumerate(importance):\n",
    "\tprint('Feature: %0d, Score: %.5f' % (i,v))"
   ]
  },
  {
   "cell_type": "code",
   "execution_count": null,
   "metadata": {},
   "outputs": [],
   "source": [
    "# Third party imports\n",
    "from sklearn.metrics import r2_score\n",
    "from sklearn.metrics import mean_absolute_error\n",
    "from sklearn.metrics import mean_squared_error\n",
    "\n",
    "## Calculate accuracy ##\n",
    "r2 = r2_score(y_test, y_pred)\n",
    "print('R-squared score:', r2)\n",
    "mae = mean_absolute_error(y_test, y_pred)\n",
    "print('Mean absolute error:', mae)\n",
    "mse = mean_squared_error(y_test, y_pred)\n",
    "print('Mean squared error:', mse)"
   ]
  },
  {
   "cell_type": "code",
   "execution_count": null,
   "metadata": {},
   "outputs": [],
   "source": [
    "# Third party imports\n",
    "import pickle\n",
    "\n",
    "## Save trained model ##\n",
    "pickle.dump(regressor, open('randomForest', 'wb'))"
   ]
  },
  {
   "cell_type": "code",
   "execution_count": null,
   "metadata": {},
   "outputs": [],
   "source": [
    "## Load trained model ##\n",
    "model = pickle.load(open('randomForest', 'rb'))\n",
    "result = model.score(X_test, y_test)"
   ]
  }
 ],
 "metadata": {
  "kernelspec": {
   "display_name": "RuTransloc",
   "language": "python",
   "name": "python3"
  },
  "language_info": {
   "codemirror_mode": {
    "name": "ipython",
    "version": 3
   },
   "file_extension": ".py",
   "mimetype": "text/x-python",
   "name": "python",
   "nbconvert_exporter": "python",
   "pygments_lexer": "ipython3",
   "version": "3.11.3"
  },
  "orig_nbformat": 4
 },
 "nbformat": 4,
 "nbformat_minor": 2
}
